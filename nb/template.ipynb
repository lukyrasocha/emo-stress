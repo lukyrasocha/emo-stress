{
 "cells": [
  {
   "cell_type": "markdown",
   "id": "a3f8c64e-869a-4e31-b038-f5603f153915",
   "metadata": {
    "jp-MarkdownHeadingCollapsed": true
   },
   "source": [
    "# Setup and data load"
   ]
  },
  {
   "cell_type": "code",
   "execution_count": 1,
   "id": "4065e184-e8ab-4c3b-85a1-b71a854b2885",
   "metadata": {},
   "outputs": [],
   "source": [
    "import matplotlib.pyplot as plt\n",
    "import numpy as np\n",
    "import pandas as pd"
   ]
  },
  {
   "cell_type": "code",
   "execution_count": 2,
   "id": "a5d59d9d-645f-4682-9880-a7b22cdb2dd7",
   "metadata": {},
   "outputs": [],
   "source": [
    "hr_data_raw = pd.read_csv('../data/HR_data.csv')\n",
    "\n",
    "hr_data = hr_data_raw.iloc[:,1:].dropna()"
   ]
  },
  {
   "cell_type": "code",
   "execution_count": 3,
   "id": "e5a0733a-c310-497e-a209-74b5982f5e84",
   "metadata": {},
   "outputs": [],
   "source": [
    "experiment_predictors = [\n",
    "    'Round',\n",
    "    'Phase',\n",
    "    'Cohort',\n",
    "]\n",
    "identity_predictors = [\n",
    "    'Individual',\n",
    "    'Puzzler',\n",
    "]\n",
    "biosignal_predictors = [name for name in hr_data.columns if '_TD_' in name]\n",
    "positive_emotion_predictors = [\n",
    "    'active',\n",
    "    'alert',\n",
    "    'attentive',\n",
    "    'determined',\n",
    "    'inspired',\n",
    "]\n",
    "negative_emotion_predictors = [\n",
    "    'afraid',\n",
    "    'ashamed',\n",
    "    'hostile',\n",
    "    'nervous',\n",
    "    'upset',\n",
    "]\n",
    "emotion_predictors = [\n",
    "    'Frustrated',\n",
    "    *positive_emotion_predictors,\n",
    "    *negative_emotion_predictors,\n",
    "]"
   ]
  },
  {
   "cell_type": "markdown",
   "id": "fe2a0f62-c384-4073-ad4b-a64674a19176",
   "metadata": {},
   "source": [
    "# Analysis"
   ]
  },
  {
   "cell_type": "code",
   "execution_count": null,
   "id": "9db6faba-e335-4226-af9a-9817fce2b6db",
   "metadata": {},
   "outputs": [],
   "source": []
  }
 ],
 "metadata": {
  "kernelspec": {
   "display_name": "Python 3 (ipykernel)",
   "language": "python",
   "name": "python3"
  },
  "language_info": {
   "codemirror_mode": {
    "name": "ipython",
    "version": 3
   },
   "file_extension": ".py",
   "mimetype": "text/x-python",
   "name": "python",
   "nbconvert_exporter": "python",
   "pygments_lexer": "ipython3",
   "version": "3.11.2"
  }
 },
 "nbformat": 4,
 "nbformat_minor": 5
}
