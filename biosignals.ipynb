{
 "cells": [
  {
   "cell_type": "markdown",
   "id": "a3f8c64e-869a-4e31-b038-f5603f153915",
   "metadata": {
    "jp-MarkdownHeadingCollapsed": true
   },
   "source": [
    "# Setup and data load"
   ]
  },
  {
   "cell_type": "code",
   "execution_count": 1,
   "id": "4065e184-e8ab-4c3b-85a1-b71a854b2885",
   "metadata": {},
   "outputs": [],
   "source": [
    "import matplotlib.pyplot as plt\n",
    "import numpy as np\n",
    "import pandas as pd"
   ]
  },
  {
   "cell_type": "code",
   "execution_count": 2,
   "id": "a5d59d9d-645f-4682-9880-a7b22cdb2dd7",
   "metadata": {},
   "outputs": [],
   "source": [
    "hr_data_raw = pd.read_csv('data/HR_data.csv')\n",
    "\n",
    "hr_data = hr_data_raw.iloc[:,1:].dropna()"
   ]
  },
  {
   "cell_type": "code",
   "execution_count": 7,
   "id": "e5a0733a-c310-497e-a209-74b5982f5e84",
   "metadata": {},
   "outputs": [],
   "source": [
    "experiment_predictors = [\n",
    "    'Round',\n",
    "    'Phase',\n",
    "    'Cohort',\n",
    "]\n",
    "identity_predictors = [\n",
    "    'Individual',\n",
    "    'Puzzler',\n",
    "]\n",
    "biosignal_predictors = [name for name in hr_data.columns if '_TD_' in name]\n",
    "positive_emotion_predictors = [\n",
    "    'active',\n",
    "    'alert',\n",
    "    'attentive',\n",
    "    'determined',\n",
    "    'inspired',\n",
    "]\n",
    "negative_emotion_predictors = [\n",
    "    'afraid',\n",
    "    'ashamed',\n",
    "    'hostile',\n",
    "    'nervous',\n",
    "    'upset',\n",
    "]\n",
    "emotion_predictors = [\n",
    "    'Frustrated',\n",
    "    *positive_emotion_predictors,\n",
    "    *negative_emotion_predictors,\n",
    "]"
   ]
  },
  {
   "cell_type": "markdown",
   "id": "fe2a0f62-c384-4073-ad4b-a64674a19176",
   "metadata": {},
   "source": [
    "# Analysis"
   ]
  },
  {
   "cell_type": "code",
   "execution_count": 35,
   "id": "e00cc853-6476-4316-a494-142eb09d15fa",
   "metadata": {},
   "outputs": [],
   "source": [
    "from sklearn.decomposition import PCA\n",
    "from sklearn.preprocessing import StandardScaler"
   ]
  },
  {
   "cell_type": "code",
   "execution_count": 18,
   "id": "9db6faba-e335-4226-af9a-9817fce2b6db",
   "metadata": {},
   "outputs": [],
   "source": [
    "scaler = StandardScaler()\n",
    "biosignals = hr_data[biosignal_predictors]\n",
    "biosignals_scaled = scaler.fit_transform(biosignals)"
   ]
  },
  {
   "cell_type": "code",
   "execution_count": 59,
   "id": "32975c60-ecb6-4def-9620-605c6d287200",
   "metadata": {},
   "outputs": [],
   "source": [
    "biopca = PCA()\n",
    "biopca.fit(biosignals_scaled)\n",
    "\n",
    "biopca_scores = biopca.transform(biosignals_scaled)"
   ]
  },
  {
   "cell_type": "code",
   "execution_count": 60,
   "id": "391ff2a4-3ab1-4066-87e4-a510d32aa4b6",
   "metadata": {},
   "outputs": [],
   "source": [
    "pc1_score_order = np.argsort(biopca_scores[0,:])[::-1]\n",
    "pc2_score_order = np.argsort(biopca_scores[1,:])[::-1]\n",
    "pc3_score_order = np.argsort(biopca_scores[2,:])[::-1]\n",
    "pc4_score_order = np.argsort(biopca_scores[3,:])[::-1]"
   ]
  },
  {
   "cell_type": "code",
   "execution_count": 68,
   "id": "f296f35d-5512-42a9-bba5-ef3697a14432",
   "metadata": {},
   "outputs": [
    {
     "name": "stdout",
     "output_type": "stream",
     "text": [
      "Principal component 1:\n",
      "   2.592 : HR_TD_Skew\n",
      "   1.762 : HR_TD_Slope_min\n",
      "   1.591 : HR_TD_Kurtosis\n",
      "   1.405 : EDA_TD_P_Slope_min\n",
      "   1.194 : TEMP_TD_Min\n",
      "   1.194 : TEMP_TD_Median\n",
      "   1.045 : EDA_TD_P_Slope_max\n",
      "   0.879 : TEMP_TD_Slope_max\n",
      "   0.619 : EDA_TD_P_std\n",
      "   0.541 : HR_TD_Max\n",
      "   0.447 : HR_TD_Slope\n",
      "   0.285 : EDA_TD_T_Median\n",
      "   0.255 : EDA_TD_P_Kurtosis\n",
      "   0.221 : TEMP_TD_Slope_min\n",
      "   0.139 : TEMP_TD_std\n",
      "   0.121 : EDA_TD_P_Slope_mean\n",
      "   0.076 : EDA_TD_T_Mean\n",
      "   0.071 : EDA_TD_P_AUC\n",
      "   0.040 : EDA_TD_T_std\n",
      "   0.032 : EDA_TD_T_Min\n",
      "   0.028 : EDA_TD_T_Max\n",
      "   0.028 : EDA_TD_T_Skew\n",
      "   0.025 : EDA_TD_T_Slope\n",
      "   0.008 : EDA_TD_P_Peaks\n",
      "   0.005 : EDA_TD_P_RT\n",
      "   0.003 : EDA_TD_T_Slope_mean\n",
      "   0.002 : EDA_TD_T_Slope_min\n",
      "  -0.018 : EDA_TD_P_ReT\n",
      "  -0.025 : EDA_TD_P_Max\n",
      "  -0.028 : EDA_TD_T_Slope_max\n",
      "  -0.031 : EDA_TD_P_Min\n",
      "  -0.036 : EDA_TD_T_AUC\n",
      "  -0.038 : EDA_TD_T_Kurtosis\n",
      "  -0.052 : EDA_TD_P_Slope\n",
      "  -0.120 : TEMP_TD_Kurtosis\n",
      "  -0.192 : EDA_TD_P_Median\n",
      "  -0.230 : EDA_TD_P_Skew\n",
      "  -0.264 : HR_TD_Slope_max\n",
      "  -0.265 : TEMP_TD_Slope_mean\n",
      "  -0.312 : HR_TD_Slope_mean\n",
      "  -0.402 : TEMP_TD_Max\n",
      "  -0.423 : TEMP_TD_AUC\n",
      "  -0.555 : TEMP_TD_Slope\n",
      "  -0.673 : EDA_TD_P_Mean\n",
      "  -0.687 : TEMP_TD_Mean\n",
      "  -0.706 : TEMP_TD_Skew\n",
      "  -0.892 : HR_TD_Min\n",
      "  -0.935 : HR_TD_Median\n",
      "  -2.056 : HR_TD_AUC\n",
      "  -2.080 : HR_TD_std\n",
      "  -3.180 : HR_TD_Mean\n"
     ]
    }
   ],
   "source": [
    "print(f'Principal component 1:')\n",
    "for idx in pc1_score_order:\n",
    "    print(f'{biopca_scores[0,idx]:8.3f} : {biosignals.columns[idx]}')"
   ]
  }
 ],
 "metadata": {
  "kernelspec": {
   "display_name": "Python 3 (ipykernel)",
   "language": "python",
   "name": "python3"
  },
  "language_info": {
   "codemirror_mode": {
    "name": "ipython",
    "version": 3
   },
   "file_extension": ".py",
   "mimetype": "text/x-python",
   "name": "python",
   "nbconvert_exporter": "python",
   "pygments_lexer": "ipython3",
   "version": "3.11.2"
  }
 },
 "nbformat": 4,
 "nbformat_minor": 5
}
